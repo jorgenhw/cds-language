{
 "cells": [
  {
   "attachments": {},
   "cell_type": "markdown",
   "metadata": {},
   "source": [
    "# Working with strings"
   ]
  },
  {
   "attachments": {},
   "cell_type": "markdown",
   "metadata": {},
   "source": [
    "It is possible to extract quite a lot of interesting, structured information from text data simply by using string processing techiques. \n",
    "\n",
    "In this session, we'll see how to do some of these things, specifically calculating word frequencies and showing key-words-in-context (concordances). We'll do this for individual files and then you'll work together to write Python code which does this for a larger corpus of texts."
   ]
  },
  {
   "cell_type": "code",
   "execution_count": 1,
   "metadata": {},
   "outputs": [],
   "source": [
    "import os\n",
    "import re\n",
    "import string\n",
    "from collections import Counter, OrderedDict"
   ]
  },
  {
   "attachments": {},
   "cell_type": "markdown",
   "metadata": {},
   "source": [
    "__Loading text files__"
   ]
  },
  {
   "attachments": {},
   "cell_type": "markdown",
   "metadata": {},
   "source": [
    "We start by defining a filepath using ```os.path.join()``` like we saw last week."
   ]
  },
  {
   "cell_type": "code",
   "execution_count": 2,
   "metadata": {},
   "outputs": [],
   "source": [
    "path = os.path.join(\"..\", \"data\", \"Dickens_Expectations_1861.txt\")"
   ]
  },
  {
   "attachments": {},
   "cell_type": "markdown",
   "metadata": {},
   "source": [
    "We then need to load the file that we want to work with.\n",
    "\n",
    "There are a number of ways to do this in Python, but the following should be considered \"best practice\".\n",
    "This method is useful when working with many many different files due to its explicitness"
   ]
  },
  {
   "cell_type": "code",
   "execution_count": 15,
   "metadata": {},
   "outputs": [],
   "source": [
    "with open(path, \"r\", encoding = \"utf-8-sig\") as file: #r stands for read, so we open the file in read mode and assign it to the variable file\n",
    "    text = file.read() #read the file and assign it to the variable text"
   ]
  },
  {
   "attachments": {},
   "cell_type": "markdown",
   "metadata": {},
   "source": [
    "When we load the text file, we just have a simple string object which can be indexed and sliced."
   ]
  },
  {
   "cell_type": "code",
   "execution_count": 16,
   "metadata": {},
   "outputs": [
    {
     "name": "stdout",
     "output_type": "stream",
     "text": [
      "REAT EXPECTATIONS\n",
      " 1867 Edition \n",
      "by Charles Dickens\n",
      "Chapter I\n",
      "My father's family name being Pirrip, and my Christian name Philip, my\n",
      "infant tongue could make of both names nothing longer or more explicit\n",
      "than Pip. So, I called myself Pip, and came to be called Pip.\n",
      "I give Pirrip as my father's famil\n"
     ]
    },
    {
     "data": {
      "text/plain": [
       "\"REAT EXPECTATIONS\\n 1867 Edition \\nby Charles Dickens\\nChapter I\\nMy father's family name being Pirrip, and my Christian name Philip, my\\ninfant tongue could make of both names nothing longer or more explicit\\nthan Pip. So, I called myself Pip, and came to be called Pip.\\nI give Pirrip as my father's famil\""
      ]
     },
     "execution_count": 16,
     "metadata": {},
     "output_type": "execute_result"
    }
   ],
   "source": [
    "print(text[:300]) #print the first 1000 characters of the text\n",
    "text[:300] # if I don't use the print() function, I get the same output, but the output is not a string, but a Jupyter Notebook object: as pure text"
   ]
  },
  {
   "attachments": {},
   "cell_type": "markdown",
   "metadata": {},
   "source": [
    "You can see that there are some formatting things that are a little funky, such as lots of newline breaks.\n",
    "\n",
    "We can get rid of those by using the ```.replace()``` method on strings."
   ]
  },
  {
   "cell_type": "code",
   "execution_count": 17,
   "metadata": {},
   "outputs": [],
   "source": [
    "text = text.replace(\"\\n\", \" \") #replace all newlines (\\n) with spaces"
   ]
  },
  {
   "attachments": {},
   "cell_type": "markdown",
   "metadata": {},
   "source": [
    "__Tokenize text__\n",
    "\n",
    "So far, we have one long string of characters. But we want to be able to work with individual words. To do that, we have to *tokenize* our data - in other words, to split it into individual tokens (or words)."
   ]
  },
  {
   "cell_type": "code",
   "execution_count": 19,
   "metadata": {},
   "outputs": [
    {
     "data": {
      "text/plain": [
       "['REAT',\n",
       " 'EXPECTATIONS',\n",
       " '1867',\n",
       " 'Edition',\n",
       " 'by',\n",
       " 'Charles',\n",
       " 'Dickens',\n",
       " 'Chapter',\n",
       " 'I',\n",
       " 'My']"
      ]
     },
     "execution_count": 19,
     "metadata": {},
     "output_type": "execute_result"
    }
   ],
   "source": [
    "tokens = text.split() #split the text on white space into a list of words, and print the first 10 words (if I left () empty, it would still split on whitespace since whitespace is the default)\n",
    "tokens[:10]"
   ]
  },
  {
   "attachments": {},
   "cell_type": "markdown",
   "metadata": {},
   "source": [
    "We could also decide to split into sentences using regex"
   ]
  },
  {
   "cell_type": "code",
   "execution_count": 21,
   "metadata": {},
   "outputs": [
    {
     "ename": "TypeError",
     "evalue": "split() takes at most 2 arguments (3 given)",
     "output_type": "error",
     "traceback": [
      "\u001b[0;31m---------------------------------------------------------------------------\u001b[0m",
      "\u001b[0;31mTypeError\u001b[0m                                 Traceback (most recent call last)",
      "Cell \u001b[0;32mIn [21], line 1\u001b[0m\n\u001b[0;32m----> 1\u001b[0m sentences \u001b[39m=\u001b[39m text\u001b[39m.\u001b[39;49msplit(\u001b[39m\"\u001b[39;49m\u001b[39m.\u001b[39;49m\u001b[39m\"\u001b[39;49m,\u001b[39m\"\u001b[39;49m\u001b[39m?\u001b[39;49m\u001b[39m\"\u001b[39;49m,\u001b[39m\"\u001b[39;49m\u001b[39m!\u001b[39;49m\u001b[39m\"\u001b[39;49m) \u001b[39m#split the text on periods into a list of sentences, and print the first 10 sentences\u001b[39;00m\n\u001b[1;32m      2\u001b[0m sentences[:\u001b[39m10\u001b[39m]\n",
      "\u001b[0;31mTypeError\u001b[0m: split() takes at most 2 arguments (3 given)"
     ]
    }
   ],
   "source": [
    "sentences = text.split(\".\") #split the text on periods into a list of sentences, and print the first 10 sentences\n",
    "sentences[:10]"
   ]
  },
  {
   "attachments": {},
   "cell_type": "markdown",
   "metadata": {},
   "source": [
    "__Get sentences with regex__"
   ]
  },
  {
   "attachments": {},
   "cell_type": "markdown",
   "metadata": {},
   "source": [
    "We can use a similar logic to split the data into separate sentences.\n",
    "\n",
    "This time we use a bit of ```regex``` to do our string splitting.\n",
    "\n",
    "In this case we are also splitting when meeting a ! ? and ."
   ]
  },
  {
   "cell_type": "code",
   "execution_count": 24,
   "metadata": {},
   "outputs": [
    {
     "data": {
      "text/plain": [
       "[\"REAT EXPECTATIONS  1867 Edition  by Charles Dickens Chapter I My father's family name being Pirrip, and my Christian name Philip, my infant tongue could make of both names nothing longer or more explicit than Pip\",\n",
       " 'So, I called myself Pip, and came to be called Pip',\n",
       " \"I give Pirrip as my father's family name, on the authority of his tombstone and my sister, - Mrs\"]"
      ]
     },
     "execution_count": 24,
     "metadata": {},
     "output_type": "execute_result"
    }
   ],
   "source": [
    "sentences = re.split(r'[.!?]\\s*', text) # \\s* means any number of whitespace characters which in this case are spaces, tabs, and newlines\n",
    "sentences[:3]"
   ]
  },
  {
   "attachments": {},
   "cell_type": "markdown",
   "metadata": {},
   "source": [
    "## Find word frequencies"
   ]
  },
  {
   "attachments": {},
   "cell_type": "markdown",
   "metadata": {},
   "source": [
    "We can count how many times an individual word appears manually, simply by iterating over the list of tokens and using a counter. \n",
    "\n",
    "To do this, we use a built in Python function called ```enumerate()```."
   ]
  },
  {
   "cell_type": "code",
   "execution_count": 42,
   "metadata": {},
   "outputs": [
    {
     "name": "stdout",
     "output_type": "stream",
     "text": [
      "[('the', 7753), ('and', 6566), ('I', 5761), ('to', 4978), ('of', 4349)]\n",
      "Number of times \"love\" occurs: 60\n"
     ]
    }
   ],
   "source": [
    "# One method\n",
    "def CountWordFrequency(text, n = 10):\n",
    "    tokens = text.split()\n",
    "    word_counts = Counter(tokens)\n",
    "    return word_counts.most_common(n) # most_common() returns a list of tuples, where each tuple is a word and its count\n",
    "\n",
    "print(CountWordFrequency(text, 5))\n",
    "\n",
    "# Another method (Ross method)\n",
    "counter = 0\n",
    "keyword = \"love\"\n",
    "\n",
    "# For every token in the list of tokens\n",
    "for token in tokens:\n",
    "    # Strip punctuation\n",
    "    stripped = token.strip(string.punctuation)\n",
    "    # Convert to lowercase\n",
    "    lowered = stripped.lower()\n",
    "    # If the token is the keyword\n",
    "    if lowered == keyword:\n",
    "        # if yes, add 1 to the counter\n",
    "        counter += 1\n",
    "print(f'Number of times \"love\" occurs: {counter}')"
   ]
  },
  {
   "cell_type": "code",
   "execution_count": 41,
   "metadata": {},
   "outputs": [
    {
     "data": {
      "text/plain": [
       "[('the', 8143), ('and', 7078), ('i', 6484), ('to', 5079), ('of', 4431)]"
      ]
     },
     "execution_count": 41,
     "metadata": {},
     "output_type": "execute_result"
    }
   ],
   "source": [
    "cleaned = []\n",
    "for token in tokens:\n",
    "    # Strip punctuation\n",
    "    stripped = token.strip(string.punctuation)\n",
    "    # Convert to lowercase\n",
    "    lowered = stripped.lower()\n",
    "    # add to new list\n",
    "    cleaned.append(lowered)\n",
    "\n",
    "Counter(cleaned).most_common(5)"
   ]
  },
  {
   "attachments": {},
   "cell_type": "markdown",
   "metadata": {},
   "source": [
    "We can use a similar logic to find all sentences where a certain keyword appears.\n",
    "In how many sentences does a word appear"
   ]
  },
  {
   "cell_type": "code",
   "execution_count": 73,
   "metadata": {},
   "outputs": [
    {
     "name": "stdout",
     "output_type": "stream",
     "text": [
      "1 but i loved joe, - perhaps for no better reason in those early days than because the dear fellow let me love him, - and, as to him, my inner self was not so easily composed\n",
      "2 she had not quite finished dressing, for she had but one shoe on, - the other was on the table near her hand, - her veil was but half arranged, her watch and chain were not put on, and some lace for her bosom lay with those trinkets, and with her handkerchief, and gloves, and some flowers, and a prayer-book all confusedly heaped about the looking-glass\n",
      "3 \" \"cousin raymond,\" observed another lady, \"we are to love our neighbor\n",
      "4 chokings and nervous jerkings, however, are nothing new to me when i think with anxiety of those i love\n",
      "5 i have taken to the sofa with my staylace cut, and have lain there hours insensible, with my head over the side, and my hair all down, and my feet i don't  know where - \"  \"much higher than your head, my love,\" said mr\n",
      "6 \"you see, my dear,\" added miss sarah pocket  a blandly vicious personage , \"the question to put to yourself is, who did you expect to thank you, my love\n",
      "7 it's something to have seen the object of one's love and duty for even so short a time\n",
      "8 it was summer-time, and lovely weather\n",
      "9 \"if i could only get myself to fall in love with you, - you don't  mind my speaking so openly to such an old acquaintance\n",
      "10 i went circuitously to miss havisham's by all the back ways, and rang at the bell constrainedly, on account of the stiff long fingers of my gloves\n",
      "11 \"there appeared upon the scene - say at the races, or the public balls, or anywhere else you like - a certain man, who made love to miss havisham\n",
      "12 i believe she had not shown much susceptibility up to that time; but all the susceptibility she possessed certainly came out then, and she passionately loved him\n",
      "13 your guardian was not at that time in miss havisham's counsels, and she was too haughty and too much in love to be advised by any one\n",
      "14 that did not extend to me, she told me in a gush of love and confidence  at that time, i had known her something less than five minutes ; if they were all like me, it would be quite another thing\n",
      "15 she was a cousin, - an indigestive single woman, who called her rigidity religion, and her liver love\n",
      "16 \" not a man of them, sir, would be bold enough to try it on, for love or money\n",
      "17 if now considered in the light of a liberty, excuse it for the love of poor old days\n",
      "18 according to my experience, the conventional notion of a lover cannot be always true\n",
      "19 the unqualified truth is, that when i loved estella with the love of a man, i loved her simply because i found her irresistible\n",
      "20 once for all; i knew to my sorrow, often and often, if not always, that i loved her against reason, against promise, against peace, against hope, against happiness, against all discouragement that could be\n",
      "21 once for all; i loved her none the less because i knew it, and it had no more influence in restraining me than if i had devoutly believed her to be human perfection\n",
      "22 the whole had a slovenly, confined, and sleepy look, like a cage for a human dormouse; while he, looming dark and heavy in the shadow of a corner by the window, looked like the human dormouse for whom it was fitted up, - as indeed he was\n",
      "23 \"love her, love her, love her\n",
      "24 \" before i could answer  if i could have answered so difficult a question at all  she repeated, \"love her, love her, love her\n",
      "25 if she favors you, love her\n",
      "26 if she wounds you, love her\n",
      "27 if she tears your heart to pieces, - and as it gets older and stronger it will tear deeper, - love her, love her, love her\n",
      "28 i adopted her, to be loved\n",
      "29 i bred her and educated her, to be loved\n",
      "30 i developed her into what she is, that she might be loved\n",
      "31 love her\n",
      "32 \" she said the word often enough, and there could be no doubt that she meant to say it; but if the often repeated word had been hate instead of love - despair - revenge - dire death - it could not have sounded from her lips more like a curse\n",
      "33 \"i'll tell you,\" said she, in the same hurried passionate whisper, \"what real love is\n",
      "34 in the interval, miss havisham, in a fantastic way, had put some of the most beautiful jewels from her dressing-table into estella's hair, and about her bosom and arms; and i saw even my guardian look at her from under his thick eyebrows, and raise them a little, when her loveliness was before him, with those rich flushes of glitter and color in it\n",
      "35 far into the night, miss havisham's words, \"love her, love her, love her\n",
      "36 i adapted them for my own repetition, and said to my pillow, \"i love her, i love her, i love her\n",
      "37 \"herbert,\" said i, laying my hand upon his knee, \"i love - i adore - estella\n",
      "38 \" and at night his reading was lovely\n",
      "39 at our own door, i found little jane pocket coming home from a little party escorted by her little lover; and i envied her little lover, in spite of his being subject to flopson\n",
      "40 for now, the very breath of the beans and clover whispered to my heart that the day must come when it would be well for my memory that others walking in the sunshine should be softened as they thought of me\n",
      "41 by degrees she led me into more temperate talk, and she told me how joe loved me, and how joe never complained of anything, - she didn't  say, of me; she had no need; i knew what she meant, - but ever did his duty in his way of life, with a strong hand, a quiet tongue, and a gentle heart\n",
      "42 the cut of her dress from the waist upward, both before and behind, made her figure very like a boy's kite; and i might have pronounced her gown a little too decidedly orange, and her gloves a little too intensely green\n",
      "43 \" while miss skiffins was taking off her bonnet  she retained her green gloves during the evening as an outward and visible sign that there was company , wemmick invited me to take a walk with him round the property, and see how the island looked in wintertime\n",
      "44 then, she put on her gloves again, and we drew round the fire, and wemmick said, \"now, aged parent, tip us the paper\n",
      "45 in course of time i saw his hand appear on the other side of miss skiffins; but at that moment miss skiffins neatly stopped him with the green glove, unwound his arm again as if it were an article of dress, and with the greatest deliberation laid it on the table before her\n",
      "46 the privilege of calling her by her name and hearing her call me by mine became, under the circumstances an aggravation of my trials; and while i think it likely that it almost maddened her other lovers, i know too certainly that it almost maddened me\n",
      "47 \" i should have replied that love was commonly reputed blind, but for the reason that i always was restrained - and this was not the least of my miseries - by a feeling that it was ungenerous to press myself upon her, when she knew that she could not choose but obey miss havisham\n",
      "48 \" \"love,\" replied the other\n",
      "49 \" \"did i never give her love\n",
      "50 \"did i never give her a burning love, inseparable from jealousy at all times, and from sharp pain, while she speaks thus to me\n",
      "51 \" \"would it be weakness to return my love\n",
      "52 i thought i saw him leer in an ugly way at me while the decanters were going round, but as there was no love lost between us, that might easily be\n",
      "53 to the present moment, i believe it to have been referable to some pure fire of generosity and disinterestedness in my love for her, that i could not endure the thought of her stooping to that hound\n",
      "54 \" said she again; and each time she said it, she opened her lovely eyes the wider\n",
      "55 isn't  there bright eyes somewheres, wot you love the thoughts on\n",
      "56 if i had loved him instead of abhorring him; if i had been attracted to him by the strongest admiration and affection, instead of shrinking from him with the strongest repugnance; it could have been no worse\n",
      "57 compeyson is the man who professed to be miss havisham's lover\n",
      "58 \" \"estella,\" said i, turning to her now, and trying to command my trembling voice, \"you know i love you\n",
      "59 you know that i have loved you long and dearly\n",
      "60 still, i love you\n",
      "61 i have loved you ever since i first saw you in this house\n",
      "62 when you say you love me, i know what you mean, as a form of words; but nothing more\n",
      "63 \" \"you cannot love him, estella\n",
      "64 miss havisham gives you to him, as the greatest slight and injury that could be done to the many far better men who admire you, and to the few who truly love you\n",
      "65 among those few there may be one who loves you even as dearly, though he has not loved you as long, as i\n",
      "66 but what a blessing it is for the son of my father and mother to love a girl who has no relations, and who can never bother herself or anybody else about her family\n",
      "67 when i had taken leave of the pretty, gentle, dark-eyed girl, and of the motherly woman who had not outlived her honest sympathy with a little affair of true love, i felt as if the old green copper ropewalk had grown quite a different place\n",
      "68 but he presently presented himself under worthier circumstances; for, the genius of youthful love being in want of assistance, - on account of the parental brutality of an ignorant farmer who opposed the choice of his daughter's heart, by purposely falling upon the object, in a flour-sack, out of the first-floor window, - summoned a sententious enchanter; and he, coming up from the antipodes rather unsteadily, after an apparently violent journey, proved to be mr\n",
      "69 i should have loved her under any circumstances\n",
      "70 \" she answered in a low whisper and with caution: \"i had been shut up in these rooms a long time  i don't  know how long; you know what time the clocks keep here , when i told him that i wanted a little girl to rear and love, and save from my fate\n",
      "71 and if he asked me why i wanted it, and why i thought i had any right to it, i would tell him, little as he cared for such poor dreams, that i had loved estella dearly and long, and that although i had lost her, and must live a bereaved life, whatever concerned her was still nearer and dearer to me than anything else in the world\n",
      "72 but add the case that you had loved her, pip, and had made her the subject of those 'poor dreams' which have, at one time or another, been in the heads of more men than you think likely, then i tell you that you had better - and would much sooner when you had thought well of it - chop off that bandaged left hand of yours with your bandaged right hand, and then pass the chopper on to wemmick there, to cut that off too\n",
      "73 \" \"herbert, i shall always need you, because i shall always love you; but my need is no greater now than at another time\n",
      "74 i went into a coffee-house to write a little note to clara, telling her he had gone off, sending his love to her over and over again, and then went to my lonely home, - if it deserved the name; for it was now no home to me, and i had no home anywhere\n",
      "75 \"here's a couple of pair of gloves\n",
      "76 \" as the gloves were white kid gloves, and as the post-office was widened to its utmost extent, i now began to have my strong suspicions\n",
      "77 \" that discreet damsel was attired as usual, except that she was now engaged in substituting for her green kid gloves a pair of white\n",
      "78 the old gentleman, however, experienced so much difficulty in getting his gloves on, that wemmick found it necessary to put him with his back against a pillar, and then to get behind the pillar himself and pull away at them, while i for my part held the old gentleman round the waist, that he might present and equal and safe resistance\n",
      "79 by dint of this ingenious scheme, his gloves were got on to perfection\n",
      "80 it was completely done, however, and when we were going out of church wemmick took the cover off the font, and put his white gloves in it, and put the cover on again\n",
      "81 wemmick, more heedful of the future, put her white gloves in her pocket and assumed her green\n",
      "82 do what he would, and love me though he did, the light left his face ever and again, and a film came over the placid look at the white ceiling\n",
      "83 \"you had a child once, whom you loved and lost\n",
      "84 and i love her\n",
      "85 so i kissed his hand, and lay quiet, while he proceeded to indite a note to biddy, with my love in it\n",
      "86 the day happened to be sunday, and when i looked on the loveliness around me, and thought how it had grown and changed, and how the little wild-flowers had been forming, and the voices of the birds had been strengthening, by day and by night, under the sun and under the stars, while poor i lay burning and tossing on my bed, the mere remembrance of having burned and tossed there came like a check upon my peace\n",
      "87 \"dear biddy,\" said i, \"you have the best husband in the whole world, and if you could have seen him by my bed you would have - but no, you couldn't  love him better than you do\n",
      "88 \"and joe and biddy both, as you have been to church to-day, and are in charity and love with all mankind, receive my humble thanks for all you have done for me, and all i have so ill repaid\n",
      "89 dear joe, i hope you will have children to love, and that some little fellow will sit in this chimney-corner of a winter night, who may remind you of another little fellow gone out of it for ever\n",
      "None\n"
     ]
    }
   ],
   "source": [
    "def wordsinsentences(text, word):\n",
    "    sentences = re.split(r'[.!?]\\s*', text)\n",
    "    counter = 0\n",
    "    for sentence in sentences:\n",
    "        if word in sentence:\n",
    "            counter += 1\n",
    "    return counter\n",
    "\n",
    "#print(wordsinsentences(text, \"love\"))\n",
    "\n",
    "# following function prints the sentences in which the word appears and the number of the sentence\n",
    "def SentencesWordAppears(text, word):\n",
    "    sentences = re.split(r'[.!?]\\s*', text.lower())\n",
    "    counter = 0\n",
    "    for sentence in sentences:\n",
    "        if word in sentence:\n",
    "            counter += 1\n",
    "            print(counter, sentence)\n",
    "\n",
    "print(SentencesWordAppears(text, \"love\"))"
   ]
  },
  {
   "attachments": {},
   "cell_type": "markdown",
   "metadata": {},
   "source": [
    "Python also has some built-in tools which we can use to count how many times a token appears in a list."
   ]
  },
  {
   "cell_type": "code",
   "execution_count": null,
   "metadata": {},
   "outputs": [],
   "source": []
  },
  {
   "attachments": {},
   "cell_type": "markdown",
   "metadata": {},
   "source": [
    "There are some problems, though! "
   ]
  },
  {
   "cell_type": "code",
   "execution_count": null,
   "metadata": {},
   "outputs": [],
   "source": []
  },
  {
   "cell_type": "code",
   "execution_count": null,
   "metadata": {},
   "outputs": [],
   "source": []
  },
  {
   "attachments": {},
   "cell_type": "markdown",
   "metadata": {},
   "source": [
    "## Viewing keywords in context (KWIC, concordancing)"
   ]
  },
  {
   "cell_type": "code",
   "execution_count": 74,
   "metadata": {},
   "outputs": [
    {
     "name": "stdout",
     "output_type": "stream",
     "text": [
      "the dear fellow let me                             love       him  and as to                                    \n",
      "another lady we are to                             love       our neighbor sarah pocket returned                \n",
      "with anxiety of those i                            love       if i could be less                                \n",
      "higher than your head my                           love       said mr camilla i have                            \n",
      "expect to thank you my                             love       without expecting any thanks or                   \n",
      "seen the object of one's                           love       and duty for even so                              \n",
      "get myself to fall in                              love       with you  you don't                               \n",
      "a certain man who made                             love       to miss havisham i never                          \n",
      "haughty and too much in                            love       to be advised by any                              \n",
      "me in a gush of                                    love       and confidence at that time                       \n",
      "rigidity religion and her liver                    love       these people hated me with                        \n",
      "to try it on for                                   love       or money they dread him                           \n",
      "liberty excuse it for the                          love       of poor old days no                               \n",
      "i loved estella with the                           love       of a man i loved                                  \n",
      "she sat in the chair                               love       her love her love her                             \n",
      "in the chair love her                              love       her love her how does                             \n",
      "chair love her love her                            love       her how does she use                              \n",
      "question at all she repeated                       love       her love her love her                             \n",
      "all she repeated love her                          love       her love her if she                               \n",
      "repeated love her love her                         love       her if she favors you                             \n",
      "her if she favors you                              love       her if she wounds you                             \n",
      "her if she wounds you                              love       her if she tears your                             \n",
      "it will tear deeper                                love       her love her love her                             \n",
      "tear deeper  love her                              love       her love her never had                            \n",
      " love her love her                                 love       her never had i seen                              \n",
      "that she might be loved                            love       her she said the word                             \n",
      "had been hate instead of                           love        despair  revenge                                 \n",
      "hurried passionate whisper what real               love       is it is blind devotion                           \n",
      "the night miss havisham's words                    love       her love her love her                             \n",
      "miss havisham's words love her                     love       her love her sounded in                           \n",
      "words love her love her                            love       her sounded in my ears                            \n",
      "said to my pillow i                                love       her i love her i                                  \n",
      "pillow i love her i                                love       her i love her hundreds                           \n",
      "her i love her i                                   love       her hundreds of times then                        \n",
      "hand upon his knee i                               love        i adore  estella                                 \n",
      "i should have replied that                         love       was commonly reputed blind but                    \n",
      "you what would you have                            love       replied the other you have                        \n",
      "did i never give her                               love       cried miss havisham turning wildly                \n",
      "never give her a burning                           love       inseparable from jealousy at all                  \n",
      "be weakness to return my                           love       exclaimed miss havisham but yes                   \n",
      "but as there was no                                love       lost between us that might                        \n",
      "generosity and disinterestedness in my             love       for her that i could                              \n",
      "bright eyes somewheres wot you                     love       the thoughts on o estella                         \n",
      "trembling voice you know i                         love       you you know that i                               \n",
      "i may go still i                                   love       you i have loved you                              \n",
      "comprehend when you say you                        love       me i know what you                                \n",
      "replied quite true you cannot                      love       him estella her fingers stopped                   \n",
      "to the few who truly                               love       you among those few there                         \n",
      "my father and mother to                            love       a girl who has no                                 \n",
      "a little affair of true                            love       i felt as if the                                  \n",
      "for the genius of youthful                         love       being in want of assistance                       \n",
      "little girl to rear and                            love       and save from my fate                             \n",
      "you because i shall always                         love       you but my need is                                \n",
      "had gone off sending his                           love       to her over and over                              \n",
      "do what he would and                               love       me though he did the                              \n",
      "and very beautiful and i                           love       her with a last faint                             \n",
      "note to biddy with my                              love       in it evidently biddy had                         \n",
      " but no you couldn't                               love       him better than you do                            \n",
      "and are in charity and                             love       with all mankind receive my                       \n",
      "you will have children to                          love       and that some little fellow                       \n"
     ]
    }
   ],
   "source": [
    "cleaned = []\n",
    "for token in tokens:\n",
    "    # Strip punctuation\n",
    "    stripped = token.strip(string.punctuation)\n",
    "    # Convert to lowercase\n",
    "    lowered = stripped.lower()\n",
    "    # add to new list\n",
    "    cleaned.append(lowered)\n",
    "\n",
    "Counter(cleaned).most_common(5)\n",
    "\n",
    "keyword = \"love\"\n",
    "\n",
    "# for every token \n",
    "for idx, token in enumerate(cleaned): # enumerate() returns the index and the token\n",
    "    if token == keyword: # if the token is the keyword\n",
    "        before = ' '.join(cleaned[idx-5:idx]) # join the 5 words before the keyword\n",
    "        after = ' '.join(cleaned[idx+1:idx+6]) # join the 5 words after the keyword\n",
    "        full = [before, token, after] # create a list of the before, keyword, and after\n",
    "        print(\"{:50} {:10} {:50}\".format(*full)) # print the list with a 50 character space before and after the keyword, the blank spaces begins from the beginning of the line, and not from the end of the sentence on that line."
   ]
  },
  {
   "cell_type": "markdown",
   "metadata": {},
   "source": [
    "## Exercises"
   ]
  },
  {
   "attachments": {},
   "cell_type": "markdown",
   "metadata": {},
   "source": [
    "In groups, work on the following exercises in class. \n",
    "\n",
    "I've left these somewhat underspecified, so you're welcome to solve them in whatever way you please, and to save the results in whatever format you think works best.\n",
    "\n",
    "- Write some code which searches through *all* of the novels in the folder called *100 English Novels* and shows how many times a given keyword appears in each novel.\n",
    "   - Save your results in a way which \n",
    "- Turn the KWIC in context code above into a function which can be used to show *all* occurrences of a keyword in the corpus. \n",
    "  - Bonus: Your results should show the same results as those above but with an additional column showing the filename\n",
    "  - Bonus: Write your function in such a way that a user can define the context window size to display."
   ]
  },
  {
   "cell_type": "markdown",
   "metadata": {},
   "source": []
  }
 ],
 "metadata": {
  "kernelspec": {
   "display_name": "Python 3",
   "language": "python",
   "name": "python3"
  },
  "language_info": {
   "codemirror_mode": {
    "name": "ipython",
    "version": 3
   },
   "file_extension": ".py",
   "mimetype": "text/x-python",
   "name": "python",
   "nbconvert_exporter": "python",
   "pygments_lexer": "ipython3",
   "version": "3.8.2"
  },
  "orig_nbformat": 4,
  "vscode": {
   "interpreter": {
    "hash": "31f2aee4e71d21fbe5cf8b01ff0e069b9275f58929596ceb00d14d90e3e16cd6"
   }
  }
 },
 "nbformat": 4,
 "nbformat_minor": 2
}
